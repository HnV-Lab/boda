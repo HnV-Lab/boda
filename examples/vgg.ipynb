{
 "cells": [
  {
   "cell_type": "code",
   "execution_count": 1,
   "metadata": {},
   "outputs": [],
   "source": [
    "import torch\n",
    "import torch.nn as nn\n",
    "import torch.nn.functional as F\n",
    "from torchsummary import summary"
   ]
  },
  {
   "cell_type": "code",
   "execution_count": 6,
   "metadata": {},
   "outputs": [],
   "source": [
    "config = {\n",
    "    'VGG11': [64, 'M', 128, 'M', 256, 256, 'M', 512, 512, 'M', 512, 512, 'M'],\n",
    "    'VGG13': [64, 64, 'M', 128, 128, 'M', 256, 256, 'M', 512, 512, 'M', 512, 512, 'M'],\n",
    "    'VGG16': [64, 64, 'M', 128, 128, 'M', 256, 256, 256, 'M', 512, 512, 512, 'M', 512, 512, 512, 'M'],\n",
    "    'VGG19': [64, 64, 'M', 128, 128, 'M', 256, 256, 256, 256, 'M', 512, 512, 512, 512, 'M', 512, 512, 512, 512, 'M'],\n",
    "}\n",
    "\n",
    "\n",
    "class VGG(nn.Module):\n",
    "    def __init__(self, vgg_name, num_class):\n",
    "        super().__init__()\n",
    "        self.features = self._make_layers(config[vgg_name])\n",
    "        self.classifier = nn.Linear(512, num_class)\n",
    "\n",
    "    def forward(self, x):\n",
    "        out = self.features(x)\n",
    "        out = out.view(out.size(0), -1)\n",
    "        out = self.classifier(out)\n",
    "        \n",
    "        return out\n",
    "\n",
    "    def _make_layers(self, config):\n",
    "        layers = []\n",
    "        in_channels = 3\n",
    "        for x in config:\n",
    "            if x == 'M':\n",
    "                layers += [nn.MaxPool2d(kernel_size=2, stride=2)]\n",
    "            else:\n",
    "                layers += [\n",
    "                    nn.Conv2d(in_channels, x, kernel_size=3, padding=1),\n",
    "                    nn.BatchNorm2d(x),\n",
    "                    nn.ReLU(inplace=True)\n",
    "                ]\n",
    "                in_channels = x\n",
    "                \n",
    "        layers += [nn.AvgPool2d(kernel_size=1, stride=1)]\n",
    "        \n",
    "        return nn.Sequential(*layers)"
   ]
  },
  {
   "cell_type": "code",
   "execution_count": 7,
   "metadata": {},
   "outputs": [
    {
     "data": {
      "text/plain": [
       "------------------------------------------------------------------------------------------\n",
       "Layer (type:depth-idx)                   Output Shape              Param #\n",
       "==========================================================================================\n",
       "├─Sequential: 1-1                        [-1, 512, 1, 1]           --\n",
       "|    └─Conv2d: 2-1                       [-1, 64, 32, 32]          1,792\n",
       "|    └─BatchNorm2d: 2-2                  [-1, 64, 32, 32]          128\n",
       "|    └─ReLU: 2-3                         [-1, 64, 32, 32]          --\n",
       "|    └─MaxPool2d: 2-4                    [-1, 64, 16, 16]          --\n",
       "|    └─Conv2d: 2-5                       [-1, 128, 16, 16]         73,856\n",
       "|    └─BatchNorm2d: 2-6                  [-1, 128, 16, 16]         256\n",
       "|    └─ReLU: 2-7                         [-1, 128, 16, 16]         --\n",
       "|    └─MaxPool2d: 2-8                    [-1, 128, 8, 8]           --\n",
       "|    └─Conv2d: 2-9                       [-1, 256, 8, 8]           295,168\n",
       "|    └─BatchNorm2d: 2-10                 [-1, 256, 8, 8]           512\n",
       "|    └─ReLU: 2-11                        [-1, 256, 8, 8]           --\n",
       "|    └─Conv2d: 2-12                      [-1, 256, 8, 8]           590,080\n",
       "|    └─BatchNorm2d: 2-13                 [-1, 256, 8, 8]           512\n",
       "|    └─ReLU: 2-14                        [-1, 256, 8, 8]           --\n",
       "|    └─MaxPool2d: 2-15                   [-1, 256, 4, 4]           --\n",
       "|    └─Conv2d: 2-16                      [-1, 512, 4, 4]           1,180,160\n",
       "|    └─BatchNorm2d: 2-17                 [-1, 512, 4, 4]           1,024\n",
       "|    └─ReLU: 2-18                        [-1, 512, 4, 4]           --\n",
       "|    └─Conv2d: 2-19                      [-1, 512, 4, 4]           2,359,808\n",
       "|    └─BatchNorm2d: 2-20                 [-1, 512, 4, 4]           1,024\n",
       "|    └─ReLU: 2-21                        [-1, 512, 4, 4]           --\n",
       "|    └─MaxPool2d: 2-22                   [-1, 512, 2, 2]           --\n",
       "|    └─Conv2d: 2-23                      [-1, 512, 2, 2]           2,359,808\n",
       "|    └─BatchNorm2d: 2-24                 [-1, 512, 2, 2]           1,024\n",
       "|    └─ReLU: 2-25                        [-1, 512, 2, 2]           --\n",
       "|    └─Conv2d: 2-26                      [-1, 512, 2, 2]           2,359,808\n",
       "|    └─BatchNorm2d: 2-27                 [-1, 512, 2, 2]           1,024\n",
       "|    └─ReLU: 2-28                        [-1, 512, 2, 2]           --\n",
       "|    └─MaxPool2d: 2-29                   [-1, 512, 1, 1]           --\n",
       "|    └─AvgPool2d: 2-30                   [-1, 512, 1, 1]           --\n",
       "├─Linear: 1-2                            [-1, 10]                  5,130\n",
       "==========================================================================================\n",
       "Total params: 9,231,114\n",
       "Trainable params: 9,231,114\n",
       "Non-trainable params: 0\n",
       "------------------------------------------------------------------------------------------\n",
       "Input size (MB): 0.01\n",
       "Forward/backward pass size (MB): 2.31\n",
       "Params size (MB): 35.21\n",
       "Estimated Total Size (MB): 37.54\n",
       "------------------------------------------------------------------------------------------"
      ]
     },
     "execution_count": 7,
     "metadata": {},
     "output_type": "execute_result"
    }
   ],
   "source": [
    "device = 'cuda' if torch.cuda.is_available() else 'cpu'\n",
    "net = VGG('VGG11', 10).to(device)\n",
    "summary(net, input_data=(3, 32, 32), verbose=0)"
   ]
  },
  {
   "cell_type": "code",
   "execution_count": null,
   "metadata": {},
   "outputs": [],
   "source": []
  }
 ],
 "metadata": {
  "kernelspec": {
   "display_name": "Python 3",
   "language": "python",
   "name": "python3"
  },
  "language_info": {
   "codemirror_mode": {
    "name": "ipython",
    "version": 3
   },
   "file_extension": ".py",
   "mimetype": "text/x-python",
   "name": "python",
   "nbconvert_exporter": "python",
   "pygments_lexer": "ipython3",
   "version": "3.7.6"
  }
 },
 "nbformat": 4,
 "nbformat_minor": 4
}
