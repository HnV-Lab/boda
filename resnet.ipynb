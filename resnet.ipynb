{
  "nbformat": 4,
  "nbformat_minor": 0,
  "metadata": {
    "kernelspec": {
      "display_name": "Python 3",
      "language": "python",
      "name": "python3"
    },
    "language_info": {
      "codemirror_mode": {
        "name": "ipython",
        "version": 3
      },
      "file_extension": ".py",
      "mimetype": "text/x-python",
      "name": "python",
      "nbconvert_exporter": "python",
      "pygments_lexer": "ipython3",
      "version": "3.7.6"
    },
    "colab": {
      "name": "resnet.ipynb",
      "provenance": [],
      "collapsed_sections": [],
      "include_colab_link": true
    },
    "accelerator": "GPU"
  },
  "cells": [
    {
      "cell_type": "markdown",
      "metadata": {
        "id": "view-in-github",
        "colab_type": "text"
      },
      "source": [
        "<a href=\"https://colab.research.google.com/github/unerue/computer-vision/blob/master/resnet.ipynb\" target=\"_parent\"><img src=\"https://colab.research.google.com/assets/colab-badge.svg\" alt=\"Open In Colab\"/></a>"
      ]
    },
    {
      "cell_type": "markdown",
      "metadata": {
        "id": "rEGEvgte8JCx",
        "colab_type": "text"
      },
      "source": [
        "## ResNet\n",
        "\n",
        "[Paper](https://arxiv.org/pdf/1512.03385.pdf)"
      ]
    },
    {
      "cell_type": "code",
      "metadata": {
        "id": "nP7nIL1y08LE",
        "colab_type": "code",
        "colab": {
          "base_uri": "https://localhost:8080/",
          "height": 71
        },
        "outputId": "85b0209a-21a3-4236-ed1a-bc08bbb1f05c"
      },
      "source": [
        "!pip uninstall -y torchsummary\n",
        "!pip install -y torch-summary"
      ],
      "execution_count": null,
      "outputs": [
        {
          "output_type": "stream",
          "text": [
            "\u001b[33mWARNING: Skipping torchsummary as it is not installed.\u001b[0m\n",
            "Requirement already satisfied: torch-summary in /usr/local/lib/python3.6/dist-packages (1.3.3)\n"
          ],
          "name": "stdout"
        }
      ]
    },
    {
      "cell_type": "code",
      "metadata": {
        "id": "wSK7qQa08JCy",
        "colab_type": "code",
        "colab": {}
      },
      "source": [
        "import numpy as np\n",
        "import matplotlib.pyplot as plt\n",
        "\n",
        "import torch\n",
        "import torch.nn as nn\n",
        "import torch.optim as optim\n",
        "import torch.nn.functional as F\n",
        "from torch.utils.data import DataLoader\n",
        "\n",
        "import torchvision\n",
        "from torchvision import transforms\n",
        "from torchsummary import summary"
      ],
      "execution_count": null,
      "outputs": []
    },
    {
      "cell_type": "code",
      "metadata": {
        "id": "DmFh5-IM89G1",
        "colab_type": "code",
        "colab": {}
      },
      "source": [
        "class AverageMeter:\n",
        "    def __init__(self):\n",
        "        self.reset()\n",
        "\n",
        "    def reset(self):\n",
        "        self.val = 0\n",
        "        self.avg = 0\n",
        "        self.sum = 0\n",
        "        self.count = 0\n",
        "\n",
        "    def update(self, val: float, n: int = 1):\n",
        "        self.val = val\n",
        "        self.sum += val * n\n",
        "        self.count += n\n",
        "        self.avg = self.sum / self.count"
      ],
      "execution_count": null,
      "outputs": []
    },
    {
      "cell_type": "code",
      "metadata": {
        "id": "qnKkKXLj8XU_",
        "colab_type": "code",
        "colab": {}
      },
      "source": [
        "def conv3x3(in_planes, out_planes, stride=1, groups=1, dilation=1):\n",
        "    return nn.Conv2d(\n",
        "        in_planes, out_planes, kernel_size=3, stride=stride,\n",
        "        padding=dilation, groups=groups, bias=False, dilation=dilation)\n",
        "\n",
        "\n",
        "def conv1x1(in_planes, out_planes, stride=1):\n",
        "    return nn.Conv2d(\n",
        "        in_planes, out_planes, kernel_size=1, stride=stride, bias=False)\n",
        "\n",
        "\n",
        "class BasicBlock(nn.Module):\n",
        "    expansion = 1\n",
        "\n",
        "    def __init__(self, inplanes, planes, stride=1, downsample=None, groups=1,\n",
        "                 base_width=64, dilation=1, norm_layer=None):\n",
        "        super().__init__()\n",
        "        if norm_layer is None:\n",
        "            norm_layer = nn.BatchNorm2d\n",
        "        if groups != 1 or base_width != 64:\n",
        "            raise ValueError('BasicBlock only supports groups=1 and base_width=64')\n",
        "        if dilation > 1:\n",
        "            raise NotImplementedError(\"Dilation > 1 not supported in BasicBlock\")\n",
        "        # Both self.conv1 and self.downsample layers downsample the input when stride != 1\n",
        "        self.conv1 = conv3x3(inplanes, planes, stride)\n",
        "        self.bn1 = norm_layer(planes)\n",
        "        self.relu = nn.ReLU(inplace=True)\n",
        "        self.conv2 = conv3x3(planes, planes)\n",
        "        self.bn2 = norm_layer(planes)\n",
        "        self.downsample = downsample\n",
        "        self.stride = stride\n",
        "\n",
        "    def forward(self, x):\n",
        "        identity = x\n",
        "\n",
        "        out = self.conv1(x)\n",
        "        out = self.bn1(out)\n",
        "        out = self.relu(out)\n",
        "\n",
        "        out = self.conv2(out)\n",
        "        out = self.bn2(out)\n",
        "\n",
        "        if self.downsample is not None:\n",
        "            identity = self.downsample(x)\n",
        "\n",
        "        out += identity\n",
        "        out = self.relu(out)\n",
        "\n",
        "        return out\n",
        "\n",
        "\n",
        "class Bottleneck(nn.Module):\n",
        "    expansion = 4\n",
        "\n",
        "    def __init__(self, inplanes, planes, stride=1, downsample=None, groups=1,\n",
        "                 base_width=64, dilation=1, norm_layer=None):\n",
        "        super().__init__()\n",
        "        if norm_layer is None:\n",
        "            norm_layer = nn.BatchNorm2d\n",
        "        width = int(planes * (base_width / 64.)) * groups\n",
        "        # Both self.conv2 and self.downsample layers downsample the input when stride != 1\n",
        "        self.conv1 = conv1x1(inplanes, width)\n",
        "        self.bn1 = norm_layer(width)\n",
        "        self.conv2 = conv3x3(width, width, stride, groups, dilation)\n",
        "        self.bn2 = norm_layer(width)\n",
        "        self.conv3 = conv1x1(width, planes * self.expansion)\n",
        "        self.bn3 = norm_layer(planes * self.expansion)\n",
        "        self.relu = nn.ReLU(inplace=True)\n",
        "        self.downsample = downsample\n",
        "        self.stride = stride\n",
        "\n",
        "    def forward(self, x):\n",
        "        identity = x\n",
        "\n",
        "        out = self.conv1(x)\n",
        "        out = self.bn1(out)\n",
        "        out = self.relu(out)\n",
        "\n",
        "        out = self.conv2(out)\n",
        "        out = self.bn2(out)\n",
        "        out = self.relu(out)\n",
        "\n",
        "        out = self.conv3(out)\n",
        "        out = self.bn3(out)\n",
        "\n",
        "        if self.downsample is not None:\n",
        "            identity = self.downsample(x)\n",
        "\n",
        "        out += identity\n",
        "        out = self.relu(out)\n",
        "\n",
        "        return out\n",
        "\n",
        "\n",
        "class ResNet(nn.Module):\n",
        "    def __init__(self, block, layers, num_classes=1000, zero_init_residual=False,\n",
        "                 groups=1, width_per_group=64, replace_stride_with_dilation=None,\n",
        "                 norm_layer=None):\n",
        "        super().__init__()\n",
        "        if norm_layer is None:\n",
        "            norm_layer = nn.BatchNorm2d\n",
        "        self._norm_layer = norm_layer\n",
        "\n",
        "        self.inplanes = 64\n",
        "        self.dilation = 1\n",
        "        if replace_stride_with_dilation is None:\n",
        "            # each element in the tuple indicates if we should replace\n",
        "            # the 2x2 stride with a dilated convolution instead\n",
        "            replace_stride_with_dilation = [False, False, False]\n",
        "        if len(replace_stride_with_dilation) != 3:\n",
        "            raise ValueError(\"replace_stride_with_dilation should be None \"\n",
        "                             \"or a 3-element tuple, got {}\".format(replace_stride_with_dilation))\n",
        "        self.groups = groups\n",
        "        self.base_width = width_per_group\n",
        "        self.conv1 = nn.Conv2d(\n",
        "            3, self.inplanes, kernel_size=7, stride=2, padding=3, bias=False)\n",
        "        self.bn1 = norm_layer(self.inplanes)\n",
        "        self.relu = nn.ReLU(inplace=True)\n",
        "        self.maxpool = nn.MaxPool2d(kernel_size=3, stride=2, padding=1)\n",
        "        self.layer1 = self._make_layer(block, 64, layers[0])\n",
        "        self.layer2 = self._make_layer(\n",
        "            block, 128, layers[1], stride=2, dilate=replace_stride_with_dilation[0])\n",
        "        self.layer3 = self._make_layer(\n",
        "            block, 256, layers[2], stride=2, dilate=replace_stride_with_dilation[1])\n",
        "        self.layer4 = self._make_layer(\n",
        "            block, 512, layers[3], stride=2, dilate=replace_stride_with_dilation[2])\n",
        "        self.avgpool = nn.AdaptiveAvgPool2d((1, 1))\n",
        "        self.fc = nn.Linear(512 * block.expansion, num_classes)\n",
        "\n",
        "        for m in self.modules():\n",
        "            if isinstance(m, nn.Conv2d):\n",
        "                nn.init.kaiming_normal_(m.weight, mode='fan_out', nonlinearity='relu')\n",
        "            elif isinstance(m, (nn.BatchNorm2d, nn.GroupNorm)):\n",
        "                nn.init.constant_(m.weight, 1)\n",
        "                nn.init.constant_(m.bias, 0)\n",
        "\n",
        "        # Zero-initialize the last BN in each residual branch,\n",
        "        # so that the residual branch starts with zeros, and each residual block behaves like an identity.\n",
        "        # This improves the model by 0.2~0.3% according to https://arxiv.org/abs/1706.02677\n",
        "        if zero_init_residual:\n",
        "            for m in self.modules():\n",
        "                if isinstance(m, Bottleneck):\n",
        "                    nn.init.constant_(m.bn3.weight, 0)\n",
        "                elif isinstance(m, BasicBlock):\n",
        "                    nn.init.constant_(m.bn2.weight, 0)\n",
        "\n",
        "    def _make_layer(self, block, planes, blocks, stride=1, dilate=False):\n",
        "        norm_layer = self._norm_layer\n",
        "        downsample = None\n",
        "        previous_dilation = self.dilation\n",
        "        if dilate:\n",
        "            self.dilation *= stride\n",
        "            stride = 1\n",
        "        if stride != 1 or self.inplanes != planes * block.expansion:\n",
        "            downsample = nn.Sequential(\n",
        "                conv1x1(self.inplanes, planes * block.expansion, stride),\n",
        "                norm_layer(planes * block.expansion),\n",
        "            )\n",
        "\n",
        "        layers = []\n",
        "        layers.append(block(\n",
        "            self.inplanes, planes, stride, downsample, self.groups,\n",
        "            self.base_width, previous_dilation, norm_layer))\n",
        "        self.inplanes = planes * block.expansion\n",
        "        for _ in range(1, blocks):\n",
        "            layers.append(block(\n",
        "                self.inplanes, planes, groups=self.groups,\n",
        "                base_width=self.base_width, dilation=self.dilation,\n",
        "                norm_layer=norm_layer))\n",
        "\n",
        "        return nn.Sequential(*layers)\n",
        "\n",
        "    def _forward_impl(self, x):\n",
        "        # See note [TorchScript super()]\n",
        "        x = self.conv1(x)\n",
        "        x = self.bn1(x)\n",
        "        x = self.relu(x)\n",
        "        x = self.maxpool(x)\n",
        "\n",
        "        x = self.layer1(x)\n",
        "        x = self.layer2(x)\n",
        "        x = self.layer3(x)\n",
        "        x = self.layer4(x)\n",
        "\n",
        "        x = self.avgpool(x)\n",
        "        x = torch.flatten(x, 1)\n",
        "        x = self.fc(x)\n",
        "\n",
        "        return x\n",
        "\n",
        "    def forward(self, x):\n",
        "        return self._forward_impl(x)\n",
        "\n",
        "\n",
        "def _resnet(arch, block, layers, pretrained, progress, **kwargs):\n",
        "    model = ResNet(block, layers, **kwargs)\n",
        "    if pretrained:\n",
        "        state_dict = load_state_dict_from_url(model_urls[arch],\n",
        "                                              progress=progress)\n",
        "        model.load_state_dict(state_dict)\n",
        "    return model\n",
        "\n",
        "\n",
        "def resnet18(pretrained=False, progress=True, **kwargs):\n",
        "    return _resnet('resnet18', BasicBlock, [2, 2, 2, 2], pretrained, progress,\n",
        "                   **kwargs)\n",
        "\n",
        "\n",
        "def resnet34(pretrained=False, progress=True, **kwargs):\n",
        "    return _resnet('resnet34', BasicBlock, [3, 4, 6, 3], pretrained, progress,\n",
        "                   **kwargs)\n",
        "\n",
        "\n",
        "def resnet50(pretrained=False, progress=True, **kwargs):\n",
        "    return _resnet('resnet50', Bottleneck, [3, 4, 6, 3], pretrained, progress,\n",
        "                   **kwargs)\n",
        "\n",
        "\n",
        "def resnet101(pretrained=False, progress=True, **kwargs):\n",
        "    return _resnet('resnet101', Bottleneck, [3, 4, 23, 3], pretrained, progress,\n",
        "                   **kwargs)\n",
        "\n",
        "\n",
        "def resnet152(pretrained=False, progress=True, **kwargs):\n",
        "    return _resnet('resnet152', Bottleneck, [3, 8, 36, 3], pretrained, progress,\n",
        "                   **kwargs)"
      ],
      "execution_count": null,
      "outputs": []
    },
    {
      "cell_type": "code",
      "metadata": {
        "id": "bqTb8fKi8JC8",
        "colab_type": "code",
        "colab": {}
      },
      "source": [
        "def resnet_18():\n",
        "    return ResNet(BasicBlock, [2, 2, 2, 2], num_classes=10)"
      ],
      "execution_count": null,
      "outputs": []
    },
    {
      "cell_type": "code",
      "metadata": {
        "id": "FmNvb0pY8JC-",
        "colab_type": "code",
        "colab": {
          "base_uri": "https://localhost:8080/",
          "height": 1000
        },
        "outputId": "91adf11d-171b-4e9f-a19d-2e68b35f4d75"
      },
      "source": [
        "device = 'cuda' if torch.cuda.is_available() else 'cpu'\n",
        "net = resnet_18().to(device)\n",
        "summary(net, input_data=(3, 32, 32), verbose=0)"
      ],
      "execution_count": null,
      "outputs": [
        {
          "output_type": "execute_result",
          "data": {
            "text/plain": [
              "------------------------------------------------------------------------------------------\n",
              "Layer (type:depth-idx)                   Output Shape              Param #\n",
              "==========================================================================================\n",
              "├─Conv2d: 1-1                            [-1, 64, 16, 16]          9,408\n",
              "├─BatchNorm2d: 1-2                       [-1, 64, 16, 16]          128\n",
              "├─ReLU: 1-3                              [-1, 64, 16, 16]          --\n",
              "├─MaxPool2d: 1-4                         [-1, 64, 8, 8]            --\n",
              "├─Sequential: 1-5                        [-1, 64, 8, 8]            --\n",
              "|    └─BasicBlock: 2-1                   [-1, 64, 8, 8]            --\n",
              "|    |    └─Conv2d: 3-1                  [-1, 64, 8, 8]            36,864\n",
              "|    |    └─BatchNorm2d: 3-2             [-1, 64, 8, 8]            128\n",
              "|    |    └─ReLU: 3-3                    [-1, 64, 8, 8]            --\n",
              "|    |    └─Conv2d: 3-4                  [-1, 64, 8, 8]            36,864\n",
              "|    |    └─BatchNorm2d: 3-5             [-1, 64, 8, 8]            128\n",
              "|    |    └─ReLU: 3-6                    [-1, 64, 8, 8]            --\n",
              "|    └─BasicBlock: 2-2                   [-1, 64, 8, 8]            --\n",
              "|    |    └─Conv2d: 3-7                  [-1, 64, 8, 8]            36,864\n",
              "|    |    └─BatchNorm2d: 3-8             [-1, 64, 8, 8]            128\n",
              "|    |    └─ReLU: 3-9                    [-1, 64, 8, 8]            --\n",
              "|    |    └─Conv2d: 3-10                 [-1, 64, 8, 8]            36,864\n",
              "|    |    └─BatchNorm2d: 3-11            [-1, 64, 8, 8]            128\n",
              "|    |    └─ReLU: 3-12                   [-1, 64, 8, 8]            --\n",
              "├─Sequential: 1-6                        [-1, 128, 4, 4]           --\n",
              "|    └─BasicBlock: 2-3                   [-1, 128, 4, 4]           --\n",
              "|    |    └─Conv2d: 3-13                 [-1, 128, 4, 4]           73,728\n",
              "|    |    └─BatchNorm2d: 3-14            [-1, 128, 4, 4]           256\n",
              "|    |    └─ReLU: 3-15                   [-1, 128, 4, 4]           --\n",
              "|    |    └─Conv2d: 3-16                 [-1, 128, 4, 4]           147,456\n",
              "|    |    └─BatchNorm2d: 3-17            [-1, 128, 4, 4]           256\n",
              "|    |    └─Sequential: 3-18             [-1, 128, 4, 4]           8,448\n",
              "|    |    └─ReLU: 3-19                   [-1, 128, 4, 4]           --\n",
              "|    └─BasicBlock: 2-4                   [-1, 128, 4, 4]           --\n",
              "|    |    └─Conv2d: 3-20                 [-1, 128, 4, 4]           147,456\n",
              "|    |    └─BatchNorm2d: 3-21            [-1, 128, 4, 4]           256\n",
              "|    |    └─ReLU: 3-22                   [-1, 128, 4, 4]           --\n",
              "|    |    └─Conv2d: 3-23                 [-1, 128, 4, 4]           147,456\n",
              "|    |    └─BatchNorm2d: 3-24            [-1, 128, 4, 4]           256\n",
              "|    |    └─ReLU: 3-25                   [-1, 128, 4, 4]           --\n",
              "├─Sequential: 1-7                        [-1, 256, 2, 2]           --\n",
              "|    └─BasicBlock: 2-5                   [-1, 256, 2, 2]           --\n",
              "|    |    └─Conv2d: 3-26                 [-1, 256, 2, 2]           294,912\n",
              "|    |    └─BatchNorm2d: 3-27            [-1, 256, 2, 2]           512\n",
              "|    |    └─ReLU: 3-28                   [-1, 256, 2, 2]           --\n",
              "|    |    └─Conv2d: 3-29                 [-1, 256, 2, 2]           589,824\n",
              "|    |    └─BatchNorm2d: 3-30            [-1, 256, 2, 2]           512\n",
              "|    |    └─Sequential: 3-31             [-1, 256, 2, 2]           33,280\n",
              "|    |    └─ReLU: 3-32                   [-1, 256, 2, 2]           --\n",
              "|    └─BasicBlock: 2-6                   [-1, 256, 2, 2]           --\n",
              "|    |    └─Conv2d: 3-33                 [-1, 256, 2, 2]           589,824\n",
              "|    |    └─BatchNorm2d: 3-34            [-1, 256, 2, 2]           512\n",
              "|    |    └─ReLU: 3-35                   [-1, 256, 2, 2]           --\n",
              "|    |    └─Conv2d: 3-36                 [-1, 256, 2, 2]           589,824\n",
              "|    |    └─BatchNorm2d: 3-37            [-1, 256, 2, 2]           512\n",
              "|    |    └─ReLU: 3-38                   [-1, 256, 2, 2]           --\n",
              "├─Sequential: 1-8                        [-1, 512, 1, 1]           --\n",
              "|    └─BasicBlock: 2-7                   [-1, 512, 1, 1]           --\n",
              "|    |    └─Conv2d: 3-39                 [-1, 512, 1, 1]           1,179,648\n",
              "|    |    └─BatchNorm2d: 3-40            [-1, 512, 1, 1]           1,024\n",
              "|    |    └─ReLU: 3-41                   [-1, 512, 1, 1]           --\n",
              "|    |    └─Conv2d: 3-42                 [-1, 512, 1, 1]           2,359,296\n",
              "|    |    └─BatchNorm2d: 3-43            [-1, 512, 1, 1]           1,024\n",
              "|    |    └─Sequential: 3-44             [-1, 512, 1, 1]           132,096\n",
              "|    |    └─ReLU: 3-45                   [-1, 512, 1, 1]           --\n",
              "|    └─BasicBlock: 2-8                   [-1, 512, 1, 1]           --\n",
              "|    |    └─Conv2d: 3-46                 [-1, 512, 1, 1]           2,359,296\n",
              "|    |    └─BatchNorm2d: 3-47            [-1, 512, 1, 1]           1,024\n",
              "|    |    └─ReLU: 3-48                   [-1, 512, 1, 1]           --\n",
              "|    |    └─Conv2d: 3-49                 [-1, 512, 1, 1]           2,359,296\n",
              "|    |    └─BatchNorm2d: 3-50            [-1, 512, 1, 1]           1,024\n",
              "|    |    └─ReLU: 3-51                   [-1, 512, 1, 1]           --\n",
              "├─AdaptiveAvgPool2d: 1-9                 [-1, 512, 1, 1]           --\n",
              "├─Linear: 1-10                           [-1, 10]                  5,130\n",
              "==========================================================================================\n",
              "Total params: 11,181,642\n",
              "Trainable params: 11,181,642\n",
              "Non-trainable params: 0\n",
              "Total mult-adds (M): 59.52\n",
              "------------------------------------------------------------------------------------------\n",
              "Input size (MB): 0.01\n",
              "Forward/backward pass size (MB): 0.77\n",
              "Params size (MB): 42.65\n",
              "Estimated Total Size (MB): 43.44\n",
              "------------------------------------------------------------------------------------------"
            ]
          },
          "metadata": {
            "tags": []
          },
          "execution_count": 30
        }
      ]
    },
    {
      "cell_type": "code",
      "metadata": {
        "id": "VaRug9-z2MVu",
        "colab_type": "code",
        "colab": {}
      },
      "source": [
        "transform = transforms.Compose([\n",
        "    transforms.ToTensor()\n",
        "])"
      ],
      "execution_count": null,
      "outputs": []
    },
    {
      "cell_type": "code",
      "metadata": {
        "id": "bLJsb4a68JDB",
        "colab_type": "code",
        "colab": {
          "base_uri": "https://localhost:8080/",
          "height": 34
        },
        "outputId": "5e568a04-c987-4424-9ad0-f7802e64ac0b"
      },
      "source": [
        "train_set = torchvision.datasets.CIFAR10(\n",
        "    './cifar10', train=True, download=True, transform=transform)\n",
        "valid_set = torchvision.datasets.CIFAR10(\n",
        "    './cifar10', train=False, download=False, transform=transform)"
      ],
      "execution_count": null,
      "outputs": [
        {
          "output_type": "stream",
          "text": [
            "Files already downloaded and verified\n"
          ],
          "name": "stdout"
        }
      ]
    },
    {
      "cell_type": "code",
      "metadata": {
        "id": "XgESxx-R2Q9o",
        "colab_type": "code",
        "colab": {
          "base_uri": "https://localhost:8080/",
          "height": 51
        },
        "outputId": "aa9bcc4e-4b06-440e-dee3-fec37c963146"
      },
      "source": [
        "print(train_set.data.shape)\n",
        "print(valid_set.data.shape)"
      ],
      "execution_count": null,
      "outputs": [
        {
          "output_type": "stream",
          "text": [
            "(50000, 32, 32, 3)\n",
            "(10000, 32, 32, 3)\n"
          ],
          "name": "stdout"
        }
      ]
    },
    {
      "cell_type": "code",
      "metadata": {
        "id": "aduBE9oL2T7w",
        "colab_type": "code",
        "colab": {}
      },
      "source": [
        "train_loader = DataLoader(train_set, batch_size=128, num_workers=2, shuffle=True)\n",
        "valid_loader = DataLoader(valid_set, batch_size=512, num_workers=2, shuffle=False)"
      ],
      "execution_count": null,
      "outputs": []
    },
    {
      "cell_type": "code",
      "metadata": {
        "id": "nBFsPeSI2iPJ",
        "colab_type": "code",
        "colab": {}
      },
      "source": [
        "optimizer = optim.SGD(net.parameters(), lr=1e-3, momentum=0.9)\n",
        "loss_fn = nn.CrossEntropyLoss()"
      ],
      "execution_count": null,
      "outputs": []
    },
    {
      "cell_type": "code",
      "metadata": {
        "id": "dv0n26dA20So",
        "colab_type": "code",
        "colab": {}
      },
      "source": [
        "def train_fn(epoch, model, data_loader, loss_fn, optimizer):\n",
        "    model.train()\n",
        "    correct = 0\n",
        "    total = len(data_loader.dataset)\n",
        "    batch = 0\n",
        "    losses = AverageMeter()\n",
        "    corrects = AverageMeter()\n",
        "    \n",
        "    for i, (inputs, labels) in enumerate(data_loader):\n",
        "        inputs = inputs.to(device)\n",
        "        labels = labels.to(device)\n",
        "        \n",
        "        optimizer.zero_grad()\n",
        "\n",
        "        outputs = model(inputs)\n",
        "        loss = loss_fn(outputs, labels)\n",
        "\n",
        "        loss.backward()\n",
        "        optimizer.step()\n",
        "        \n",
        "        batch += inputs.size(0)\n",
        "\n",
        "        _, preds = torch.max(outputs, 1)\n",
        "        \n",
        "        correct += (preds == labels).sum().item()\n",
        "\n",
        "        if (i+1) % 50 == 0:\n",
        "            print(f'Epoch {epoch+1}({(batch/total)*100:.2f}%) Train loss: {loss.item():.4f} accuracy: {correct/batch:.4f}')\n",
        "        \n",
        "        losses.update(loss, inputs.size(0))\n",
        "        corrects.update(correct, inputs.size(0))\n",
        "        \n",
        "    return losses.avg, corrects.avg"
      ],
      "execution_count": null,
      "outputs": []
    },
    {
      "cell_type": "code",
      "metadata": {
        "id": "9ccJYhG2211M",
        "colab_type": "code",
        "colab": {
          "base_uri": "https://localhost:8080/",
          "height": 374
        },
        "outputId": "778cd5fb-bd40-4220-cc35-e4ff02ef81c8"
      },
      "source": [
        "epochs = 3\n",
        "\n",
        "train_losses = []\n",
        "valid_losses = []\n",
        "\n",
        "train_accuracies = []\n",
        "valid_accuracies = []\n",
        "\n",
        "for epoch in range(epochs):\n",
        "    loss, acc = train_fn(epoch, net, train_loader, loss_fn, optimizer)\n",
        "    train_losses.append(loss)\n",
        "    train_accuracies.append(acc)"
      ],
      "execution_count": null,
      "outputs": [
        {
          "output_type": "stream",
          "text": [
            "Epoch 1[50000/12.80%] Train loss: 0.6718 accuracy: 0.8075\n",
            "Epoch 1[50000/25.60%] Train loss: 0.6693 accuracy: 0.7984375\n",
            "Epoch 1[50000/38.40%] Train loss: 0.5230 accuracy: 0.7952604166666667\n",
            "Epoch 1[50000/51.20%] Train loss: 0.6039 accuracy: 0.79265625\n",
            "Epoch 1[50000/64.00%] Train loss: 0.5506 accuracy: 0.789875\n",
            "Epoch 1[50000/76.80%] Train loss: 0.6084 accuracy: 0.7873697916666667\n",
            "Epoch 1[50000/89.60%] Train loss: 0.5618 accuracy: 0.7852008928571429\n",
            "Epoch 2[50000/12.80%] Train loss: 0.5369 accuracy: 0.84015625\n",
            "Epoch 2[50000/25.60%] Train loss: 0.4534 accuracy: 0.840625\n",
            "Epoch 2[50000/38.40%] Train loss: 0.4126 accuracy: 0.8383854166666667\n",
            "Epoch 2[50000/51.20%] Train loss: 0.5098 accuracy: 0.83625\n",
            "Epoch 2[50000/64.00%] Train loss: 0.4825 accuracy: 0.8335625\n",
            "Epoch 2[50000/76.80%] Train loss: 0.5162 accuracy: 0.830546875\n",
            "Epoch 2[50000/89.60%] Train loss: 0.4590 accuracy: 0.8277901785714286\n",
            "Epoch 3[50000/12.80%] Train loss: 0.3564 accuracy: 0.87859375\n",
            "Epoch 3[50000/25.60%] Train loss: 0.4009 accuracy: 0.880859375\n",
            "Epoch 3[50000/38.40%] Train loss: 0.2666 accuracy: 0.8794791666666667\n",
            "Epoch 3[50000/51.20%] Train loss: 0.3668 accuracy: 0.8793359375\n",
            "Epoch 3[50000/64.00%] Train loss: 0.3844 accuracy: 0.8774375\n",
            "Epoch 3[50000/76.80%] Train loss: 0.4669 accuracy: 0.8750520833333333\n",
            "Epoch 3[50000/89.60%] Train loss: 0.4093 accuracy: 0.8728794642857143\n"
          ],
          "name": "stdout"
        }
      ]
    },
    {
      "cell_type": "code",
      "metadata": {
        "id": "c0wYuy4O3EVb",
        "colab_type": "code",
        "colab": {}
      },
      "source": [
        "import matplotlib.pyplot as plt\n",
        "\n",
        "epochs = range(1, 30 + 1)\n",
        "\n",
        "plt.plot(epochs, train_accuracies, 'b', label='Training accuracy')\n",
        "plt.plot(epochs, valid_accuracies, 'r', label='Validation accuracy')\n",
        "plt.title('Training and validation accuracy')\n",
        "plt.legend()\n",
        "\n",
        "plt.figure()\n",
        "\n",
        "plt.plot(epochs, train_losses, 'b', label='Training loss')\n",
        "plt.plot(epochs, valid_losses, 'r', label='Validation loss')\n",
        "plt.legend()\n",
        "\n",
        "plt.show()"
      ],
      "execution_count": null,
      "outputs": []
    },
    {
      "cell_type": "code",
      "metadata": {
        "id": "37qpPXxw_sBP",
        "colab_type": "code",
        "colab": {
          "base_uri": "https://localhost:8080/",
          "height": 54
        },
        "outputId": "4061f1f1-3341-40a0-e50f-e104eabd72f2"
      },
      "source": [
        "net._modules.items()"
      ],
      "execution_count": null,
      "outputs": [
        {
          "output_type": "execute_result",
          "data": {
            "text/plain": [
              "odict_keys(['conv1', 'bn1', 'relu', 'maxpool', 'layer1', 'layer2', 'layer3', 'layer4', 'avgpool', 'fc'])"
            ]
          },
          "metadata": {
            "tags": []
          },
          "execution_count": 55
        }
      ]
    },
    {
      "cell_type": "code",
      "metadata": {
        "id": "VIbUkQjoC16Z",
        "colab_type": "code",
        "colab": {}
      },
      "source": [
        ""
      ],
      "execution_count": null,
      "outputs": []
    }
  ]
}